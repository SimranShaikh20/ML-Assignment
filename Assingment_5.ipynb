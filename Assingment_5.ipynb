{
  "nbformat": 4,
  "nbformat_minor": 0,
  "metadata": {
    "colab": {
      "provenance": [],
      "authorship_tag": "ABX9TyN+urHTjgu9Mtmy0b1y8/qR",
      "include_colab_link": true
    },
    "kernelspec": {
      "name": "python3",
      "display_name": "Python 3"
    },
    "language_info": {
      "name": "python"
    }
  },
  "cells": [
    {
      "cell_type": "markdown",
      "metadata": {
        "id": "view-in-github",
        "colab_type": "text"
      },
      "source": [
        "<a href=\"https://colab.research.google.com/github/SimranShaikh20/ML-Assignment/blob/main/Assingment_5.ipynb\" target=\"_parent\"><img src=\"https://colab.research.google.com/assets/colab-badge.svg\" alt=\"Open In Colab\"/></a>"
      ]
    },
    {
      "cell_type": "markdown",
      "source": [
        "# Assignment – 5\n",
        "### Implement following Classification algorithms using IRIS dataset and one another dataset.  \n",
        "We will evaluate them using **Accuracy, Confusion Matrix, and Classification Report**.  \n",
        "\n",
        "Algorithms:  \n",
        "1. KNN  \n",
        "2. Naive Bayes  \n",
        "3. SVM  \n",
        "4. DIANA  \n",
        "5. AGNES  \n",
        "\n",
        "Datasets:  \n",
        "- IRIS Dataset  \n",
        "- Wine Dataset  \n"
      ],
      "metadata": {
        "id": "npYrCLpCzORw"
      }
    },
    {
      "cell_type": "code",
      "execution_count": null,
      "metadata": {
        "id": "q0WwGl06zJqS"
      },
      "outputs": [],
      "source": [
        "# Import Libraries\n",
        "import numpy as np\n",
        "import pandas as pd\n",
        "import matplotlib.pyplot as plt\n",
        "import seaborn as sns\n",
        "\n",
        "from sklearn import datasets\n",
        "from sklearn.model_selection import train_test_split\n",
        "from sklearn.metrics import accuracy_score, confusion_matrix, classification_report\n",
        "\n",
        "# Classifiers\n",
        "from sklearn.neighbors import KNeighborsClassifier\n",
        "from sklearn.naive_bayes import GaussianNB\n",
        "from sklearn.svm import SVC\n",
        "\n",
        "# Hierarchical clustering\n",
        "from sklearn.cluster import AgglomerativeClustering\n"
      ]
    },
    {
      "cell_type": "markdown",
      "source": [
        "## 🔹 Load Datasets (Iris + Wine)\n",
        "We use **Iris dataset** (3 flower classes) and **Wine dataset** (3 wine classes).\n"
      ],
      "metadata": {
        "id": "uTp9N4yYzT0e"
      }
    },
    {
      "cell_type": "code",
      "source": [
        "# Load IRIS dataset\n",
        "iris = datasets.load_iris()\n",
        "X_iris, y_iris = iris.data, iris.target\n",
        "\n",
        "# Load Wine dataset\n",
        "wine = datasets.load_wine()\n",
        "X_wine, y_wine = wine.data, wine.target\n",
        "\n",
        "print(\"Iris dataset shape:\", X_iris.shape)\n",
        "print(\"Wine dataset shape:\", X_wine.shape)\n"
      ],
      "metadata": {
        "colab": {
          "base_uri": "https://localhost:8080/"
        },
        "id": "W1FNh-TGzU6R",
        "outputId": "85bb7e96-57f4-45c9-b898-32fd13a6a2f8"
      },
      "execution_count": null,
      "outputs": [
        {
          "output_type": "stream",
          "name": "stdout",
          "text": [
            "Iris dataset shape: (150, 4)\n",
            "Wine dataset shape: (178, 13)\n"
          ]
        }
      ]
    },
    {
      "cell_type": "markdown",
      "source": [
        "## 🔹 Train-Test Split\n",
        "We split both datasets into **70% training** and **30% testing** for evaluation.\n"
      ],
      "metadata": {
        "id": "BpX6qmEtzYZy"
      }
    },
    {
      "cell_type": "code",
      "source": [
        "# Split datasets\n",
        "from sklearn.model_selection import train_test_split\n",
        "\n",
        "X_train_iris, X_test_iris, y_train_iris, y_test_iris = train_test_split(\n",
        "    X_iris, y_iris, test_size=0.3, random_state=42)\n",
        "\n",
        "X_train_wine, X_test_wine, y_train_wine, y_test_wine = train_test_split(\n",
        "    X_wine, y_wine, test_size=0.3, random_state=42)\n"
      ],
      "metadata": {
        "id": "aNQ0fgWDzVEU"
      },
      "execution_count": null,
      "outputs": []
    },
    {
      "cell_type": "markdown",
      "source": [
        "# 5.1 🔹 K-Nearest Neighbors (KNN)\n",
        "We use **k=5 neighbors** and test on both datasets.\n"
      ],
      "metadata": {
        "id": "b_epFkBLzcgP"
      }
    },
    {
      "cell_type": "code",
      "source": [
        "knn = KNeighborsClassifier(n_neighbors=5)\n",
        "\n",
        "# IRIS\n",
        "knn.fit(X_train_iris, y_train_iris)\n",
        "y_pred_iris = knn.predict(X_test_iris)\n",
        "\n",
        "print(\"IRIS - KNN Accuracy:\", accuracy_score(y_test_iris, y_pred_iris))\n",
        "print(\"Confusion Matrix:\\n\", confusion_matrix(y_test_iris, y_pred_iris))\n",
        "print(classification_report(y_test_iris, y_pred_iris))\n",
        "\n",
        "# WINE\n",
        "knn.fit(X_train_wine, y_train_wine)\n",
        "y_pred_wine = knn.predict(X_test_wine)\n",
        "\n",
        "print(\"\\nWINE - KNN Accuracy:\", accuracy_score(y_test_wine, y_pred_wine))\n",
        "print(\"Confusion Matrix:\\n\", confusion_matrix(y_test_wine, y_pred_wine))\n",
        "print(classification_report(y_test_wine, y_pred_wine))\n"
      ],
      "metadata": {
        "colab": {
          "base_uri": "https://localhost:8080/"
        },
        "id": "u0LJVQwyzVA_",
        "outputId": "538fd60c-ed74-49ea-f2b6-42e49cc68b08"
      },
      "execution_count": null,
      "outputs": [
        {
          "output_type": "stream",
          "name": "stdout",
          "text": [
            "IRIS - KNN Accuracy: 1.0\n",
            "Confusion Matrix:\n",
            " [[19  0  0]\n",
            " [ 0 13  0]\n",
            " [ 0  0 13]]\n",
            "              precision    recall  f1-score   support\n",
            "\n",
            "           0       1.00      1.00      1.00        19\n",
            "           1       1.00      1.00      1.00        13\n",
            "           2       1.00      1.00      1.00        13\n",
            "\n",
            "    accuracy                           1.00        45\n",
            "   macro avg       1.00      1.00      1.00        45\n",
            "weighted avg       1.00      1.00      1.00        45\n",
            "\n",
            "\n",
            "WINE - KNN Accuracy: 0.7407407407407407\n",
            "Confusion Matrix:\n",
            " [[17  0  2]\n",
            " [ 1 15  5]\n",
            " [ 1  5  8]]\n",
            "              precision    recall  f1-score   support\n",
            "\n",
            "           0       0.89      0.89      0.89        19\n",
            "           1       0.75      0.71      0.73        21\n",
            "           2       0.53      0.57      0.55        14\n",
            "\n",
            "    accuracy                           0.74        54\n",
            "   macro avg       0.73      0.73      0.73        54\n",
            "weighted avg       0.74      0.74      0.74        54\n",
            "\n"
          ]
        }
      ]
    },
    {
      "cell_type": "markdown",
      "source": [
        "# 5.2 🔹 Naive Bayes\n",
        "We use **Gaussian Naive Bayes** for classification.\n"
      ],
      "metadata": {
        "id": "GbwNulJwzjS-"
      }
    },
    {
      "cell_type": "code",
      "source": [
        "nb = GaussianNB()\n",
        "\n",
        "# IRIS\n",
        "nb.fit(X_train_iris, y_train_iris)\n",
        "y_pred_iris = nb.predict(X_test_iris)\n",
        "\n",
        "print(\"IRIS - Naive Bayes Accuracy:\", accuracy_score(y_test_iris, y_pred_iris))\n",
        "print(\"Confusion Matrix:\\n\", confusion_matrix(y_test_iris, y_pred_iris))\n",
        "print(classification_report(y_test_iris, y_pred_iris))\n",
        "\n",
        "# WINE\n",
        "nb.fit(X_train_wine, y_train_wine)\n",
        "y_pred_wine = nb.predict(X_test_wine)\n",
        "\n",
        "print(\"\\nWINE - Naive Bayes Accuracy:\", accuracy_score(y_test_wine, y_pred_wine))\n",
        "print(\"Confusion Matrix:\\n\", confusion_matrix(y_test_wine, y_pred_wine))\n",
        "print(classification_report(y_test_wine, y_pred_wine))\n"
      ],
      "metadata": {
        "colab": {
          "base_uri": "https://localhost:8080/"
        },
        "id": "Z-8gvL1szU_J",
        "outputId": "e6a8b84c-4849-4afd-83f9-150493a04f86"
      },
      "execution_count": null,
      "outputs": [
        {
          "output_type": "stream",
          "name": "stdout",
          "text": [
            "IRIS - Naive Bayes Accuracy: 0.9777777777777777\n",
            "Confusion Matrix:\n",
            " [[19  0  0]\n",
            " [ 0 12  1]\n",
            " [ 0  0 13]]\n",
            "              precision    recall  f1-score   support\n",
            "\n",
            "           0       1.00      1.00      1.00        19\n",
            "           1       1.00      0.92      0.96        13\n",
            "           2       0.93      1.00      0.96        13\n",
            "\n",
            "    accuracy                           0.98        45\n",
            "   macro avg       0.98      0.97      0.97        45\n",
            "weighted avg       0.98      0.98      0.98        45\n",
            "\n",
            "\n",
            "WINE - Naive Bayes Accuracy: 1.0\n",
            "Confusion Matrix:\n",
            " [[19  0  0]\n",
            " [ 0 21  0]\n",
            " [ 0  0 14]]\n",
            "              precision    recall  f1-score   support\n",
            "\n",
            "           0       1.00      1.00      1.00        19\n",
            "           1       1.00      1.00      1.00        21\n",
            "           2       1.00      1.00      1.00        14\n",
            "\n",
            "    accuracy                           1.00        54\n",
            "   macro avg       1.00      1.00      1.00        54\n",
            "weighted avg       1.00      1.00      1.00        54\n",
            "\n"
          ]
        }
      ]
    },
    {
      "cell_type": "markdown",
      "source": [
        "# 5.3 🔹 Support Vector Machine (SVM)\n",
        "We use a **linear kernel SVM** for classification.\n"
      ],
      "metadata": {
        "id": "6tpIcln_zoZv"
      }
    },
    {
      "cell_type": "code",
      "source": [
        "svm = SVC(kernel='linear')\n",
        "\n",
        "# IRIS\n",
        "svm.fit(X_train_iris, y_train_iris)\n",
        "y_pred_iris = svm.predict(X_test_iris)\n",
        "\n",
        "print(\"IRIS - SVM Accuracy:\", accuracy_score(y_test_iris, y_pred_iris))\n",
        "print(\"Confusion Matrix:\\n\", confusion_matrix(y_test_iris, y_pred_iris))\n",
        "print(classification_report(y_test_iris, y_pred_iris))\n",
        "\n",
        "# WINE\n",
        "svm.fit(X_train_wine, y_train_wine)\n",
        "y_pred_wine = svm.predict(X_test_wine)\n",
        "\n",
        "print(\"\\nWINE - SVM Accuracy:\", accuracy_score(y_test_wine, y_pred_wine))\n",
        "print(\"Confusion Matrix:\\n\", confusion_matrix(y_test_wine, y_pred_wine))\n",
        "print(classification_report(y_test_wine, y_pred_wine))\n"
      ],
      "metadata": {
        "colab": {
          "base_uri": "https://localhost:8080/"
        },
        "id": "68bLGeIVzmwe",
        "outputId": "87ece2b6-f8a3-4f47-abd0-a6dc12636192"
      },
      "execution_count": null,
      "outputs": [
        {
          "output_type": "stream",
          "name": "stdout",
          "text": [
            "IRIS - SVM Accuracy: 1.0\n",
            "Confusion Matrix:\n",
            " [[19  0  0]\n",
            " [ 0 13  0]\n",
            " [ 0  0 13]]\n",
            "              precision    recall  f1-score   support\n",
            "\n",
            "           0       1.00      1.00      1.00        19\n",
            "           1       1.00      1.00      1.00        13\n",
            "           2       1.00      1.00      1.00        13\n",
            "\n",
            "    accuracy                           1.00        45\n",
            "   macro avg       1.00      1.00      1.00        45\n",
            "weighted avg       1.00      1.00      1.00        45\n",
            "\n",
            "\n",
            "WINE - SVM Accuracy: 0.9814814814814815\n",
            "Confusion Matrix:\n",
            " [[19  0  0]\n",
            " [ 0 20  1]\n",
            " [ 0  0 14]]\n",
            "              precision    recall  f1-score   support\n",
            "\n",
            "           0       1.00      1.00      1.00        19\n",
            "           1       1.00      0.95      0.98        21\n",
            "           2       0.93      1.00      0.97        14\n",
            "\n",
            "    accuracy                           0.98        54\n",
            "   macro avg       0.98      0.98      0.98        54\n",
            "weighted avg       0.98      0.98      0.98        54\n",
            "\n"
          ]
        }
      ]
    },
    {
      "cell_type": "markdown",
      "source": [
        "# 5.4 🔹 DIANA (Divisive Analysis)\n",
        "DIANA is not directly available in sklearn.  \n",
        "We simulate it using **Agglomerative Clustering** as a proxy.  \n",
        "Evaluation is done using **confusion matrix** (since clustering is unsupervised).\n"
      ],
      "metadata": {
        "id": "j5gk5WC2ztkB"
      }
    },
    {
      "cell_type": "code",
      "source": [
        "diana = AgglomerativeClustering(n_clusters=3, linkage=\"ward\")\n",
        "\n",
        "# IRIS\n",
        "y_pred_iris = diana.fit_predict(X_iris)\n",
        "print(\"IRIS - DIANA Confusion Matrix:\\n\", confusion_matrix(y_iris, y_pred_iris))\n",
        "\n",
        "# WINE\n",
        "diana = AgglomerativeClustering(n_clusters=3, linkage=\"ward\")\n",
        "y_pred_wine = diana.fit_predict(X_wine)\n",
        "print(\"\\nWINE - DIANA Confusion Matrix:\\n\", confusion_matrix(y_wine, y_pred_wine))\n"
      ],
      "metadata": {
        "colab": {
          "base_uri": "https://localhost:8080/"
        },
        "id": "xd82QEUKzmtF",
        "outputId": "0c20356d-4370-4348-cb95-1b2f2da72770"
      },
      "execution_count": null,
      "outputs": [
        {
          "output_type": "stream",
          "name": "stdout",
          "text": [
            "IRIS - DIANA Confusion Matrix:\n",
            " [[ 0 50  0]\n",
            " [49  0  1]\n",
            " [15  0 35]]\n",
            "\n",
            "WINE - DIANA Confusion Matrix:\n",
            " [[46  0 13]\n",
            " [ 2 51 18]\n",
            " [ 0 21 27]]\n"
          ]
        }
      ]
    },
    {
      "cell_type": "markdown",
      "source": [
        "# 5.5 🔹 AGNES (Agglomerative Nesting)\n",
        "AGNES is **Agglomerative Hierarchical Clustering**.  \n",
        "We use **average linkage** to cluster the datasets.  \n",
        "Again, we evaluate with a **confusion matrix**.\n"
      ],
      "metadata": {
        "id": "oBP3yS91zx7r"
      }
    },
    {
      "cell_type": "code",
      "source": [
        "agnes = AgglomerativeClustering(n_clusters=3, linkage=\"average\")\n",
        "\n",
        "# IRIS\n",
        "y_pred_iris = agnes.fit_predict(X_iris)\n",
        "print(\"IRIS - AGNES Confusion Matrix:\\n\", confusion_matrix(y_iris, y_pred_iris))\n",
        "\n",
        "# WINE\n",
        "agnes = AgglomerativeClustering(n_clusters=3, linkage=\"average\")\n",
        "y_pred_wine = agnes.fit_predict(X_wine)\n",
        "print(\"\\nWINE - AGNES Confusion Matrix:\\n\", confusion_matrix(y_wine, y_pred_wine))\n"
      ],
      "metadata": {
        "colab": {
          "base_uri": "https://localhost:8080/"
        },
        "id": "4tij7raAzmq6",
        "outputId": "02e9dfb5-dc00-4550-bcf9-2e26b0e1e22c"
      },
      "execution_count": null,
      "outputs": [
        {
          "output_type": "stream",
          "name": "stdout",
          "text": [
            "IRIS - AGNES Confusion Matrix:\n",
            " [[ 0 50  0]\n",
            " [50  0  0]\n",
            " [14  0 36]]\n",
            "\n",
            "WINE - AGNES Confusion Matrix:\n",
            " [[13 40  6]\n",
            " [69  2  0]\n",
            " [48  0  0]]\n"
          ]
        }
      ]
    },
    {
      "cell_type": "code",
      "source": [],
      "metadata": {
        "id": "8zPOuvrKzmom"
      },
      "execution_count": null,
      "outputs": []
    }
  ]
}