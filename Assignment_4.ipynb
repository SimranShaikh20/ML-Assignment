{
  "nbformat": 4,
  "nbformat_minor": 0,
  "metadata": {
    "colab": {
      "provenance": [],
      "authorship_tag": "ABX9TyOK2RPNl9otKojSXfkph1iH",
      "include_colab_link": true
    },
    "kernelspec": {
      "name": "python3",
      "display_name": "Python 3"
    },
    "language_info": {
      "name": "python"
    }
  },
  "cells": [
    {
      "cell_type": "markdown",
      "metadata": {
        "id": "view-in-github",
        "colab_type": "text"
      },
      "source": [
        "<a href=\"https://colab.research.google.com/github/SimranShaikh20/ML-Assignment/blob/main/Assignment_4.ipynb\" target=\"_parent\"><img src=\"https://colab.research.google.com/assets/colab-badge.svg\" alt=\"Open In Colab\"/></a>"
      ]
    },
    {
      "cell_type": "markdown",
      "source": [
        "# Assignment – 4: Clustering and Classification\n",
        "\n",
        "This notebook implements clustering algorithms on the **Iris dataset** and another dataset, evaluates them using clustering metrics, and performs digit classification using **KNN**.\n",
        "\n",
        "We cover:\n",
        "1. KMeans\n",
        "2. DBSCAN\n",
        "3. OPTICS\n",
        "4. CLARA\n",
        "5. CLARANS\n",
        "6. Digit classification with KNN\n"
      ],
      "metadata": {
        "id": "hacH95rXw6-s"
      }
    },
    {
      "cell_type": "code",
      "execution_count": null,
      "metadata": {
        "id": "Hi7fkijdwTiD"
      },
      "outputs": [],
      "source": [
        "import numpy as np\n",
        "import pandas as pd\n",
        "import matplotlib.pyplot as plt\n",
        "import seaborn as sns\n",
        "\n",
        "from sklearn.datasets import load_iris, load_wine, load_digits\n",
        "from sklearn.preprocessing import StandardScaler\n",
        "from sklearn.cluster import KMeans, DBSCAN, OPTICS\n",
        "from sklearn.metrics import silhouette_score, davies_bouldin_score, adjusted_rand_score\n",
        "\n",
        "from sklearn.model_selection import train_test_split, GridSearchCV\n",
        "from sklearn.neighbors import KNeighborsClassifier\n",
        "from sklearn.metrics import classification_report, confusion_matrix, ConfusionMatrixDisplay\n"
      ]
    },
    {
      "cell_type": "markdown",
      "source": [
        "# Step 2: Load Datasets"
      ],
      "metadata": {
        "id": "TZqBqQJgw__7"
      }
    },
    {
      "cell_type": "code",
      "source": [
        "# Iris dataset\n",
        "iris = load_iris()\n",
        "X_iris = pd.DataFrame(iris.data, columns=iris.feature_names)\n",
        "y_iris = iris.target\n",
        "\n",
        "# Another dataset: Wine dataset\n",
        "wine = load_wine()\n",
        "X_wine = pd.DataFrame(wine.data, columns=wine.feature_names)\n",
        "y_wine = wine.target\n",
        "\n",
        "# Standard scaling\n",
        "scaler = StandardScaler()\n",
        "X_iris_scaled = scaler.fit_transform(X_iris)\n",
        "X_wine_scaled = scaler.fit_transform(X_wine)\n"
      ],
      "metadata": {
        "id": "xzJ6M7fMw-PO"
      },
      "execution_count": null,
      "outputs": []
    },
    {
      "cell_type": "markdown",
      "source": [
        "# KMeans Clustering"
      ],
      "metadata": {
        "id": "-EKulSZmxKq-"
      }
    },
    {
      "cell_type": "markdown",
      "source": [
        "\n",
        "We apply KMeans on **Iris** and **Wine** datasets.\n",
        "Evaluation metrics:\n",
        "- Silhouette Score\n",
        "- Davies–Bouldin Score\n",
        "- Adjusted Rand Index (with true labels)\n"
      ],
      "metadata": {
        "id": "XiPxILzWxN94"
      }
    },
    {
      "cell_type": "code",
      "source": [
        "def evaluate_clustering(X, labels, true_labels, name):\n",
        "    print(f\"\\n🔹 Results for {name}\")\n",
        "    print(\"Silhouette Score:\", silhouette_score(X, labels))\n",
        "    print(\"Davies–Bouldin Score:\", davies_bouldin_score(X, labels))\n",
        "    print(\"Adjusted Rand Index:\", adjusted_rand_score(true_labels, labels))\n",
        "\n",
        "# KMeans - Iris\n",
        "kmeans_iris = KMeans(n_clusters=3, random_state=42)\n",
        "iris_pred = kmeans_iris.fit_predict(X_iris_scaled)\n",
        "evaluate_clustering(X_iris_scaled, iris_pred, y_iris, \"KMeans - Iris\")\n",
        "\n",
        "# KMeans - Wine\n",
        "kmeans_wine = KMeans(n_clusters=3, random_state=42)\n",
        "wine_pred = kmeans_wine.fit_predict(X_wine_scaled)\n",
        "evaluate_clustering(X_wine_scaled, wine_pred, y_wine, \"KMeans - Wine\")\n"
      ],
      "metadata": {
        "colab": {
          "base_uri": "https://localhost:8080/"
        },
        "id": "GQ0a7u1xw-JI",
        "outputId": "b2207637-ec34-41e0-d56d-0351dccc6a69"
      },
      "execution_count": null,
      "outputs": [
        {
          "output_type": "stream",
          "name": "stdout",
          "text": [
            "\n",
            "🔹 Results for KMeans - Iris\n",
            "Silhouette Score: 0.4798814508199817\n",
            "Davies–Bouldin Score: 0.7893630242997912\n",
            "Adjusted Rand Index: 0.432804702527474\n",
            "\n",
            "🔹 Results for KMeans - Wine\n",
            "Silhouette Score: 0.2848589191898987\n",
            "Davies–Bouldin Score: 1.3891879777181646\n",
            "Adjusted Rand Index: 0.8974949815093207\n"
          ]
        }
      ]
    },
    {
      "cell_type": "markdown",
      "source": [
        "### DBSCAN\n",
        "DBSCAN groups points based on density.  \n",
        "We need to tune `eps` and `min_samples` for meaningful clusters.\n"
      ],
      "metadata": {
        "id": "lrn1FXdJxY8Z"
      }
    },
    {
      "cell_type": "code",
      "source": [
        "# DBSCAN - Iris\n",
        "dbscan_iris = DBSCAN(eps=0.6, min_samples=5)\n",
        "iris_pred = dbscan_iris.fit_predict(X_iris_scaled)\n",
        "evaluate_clustering(X_iris_scaled, iris_pred, y_iris, \"DBSCAN - Iris\")\n",
        "\n",
        "# DBSCAN - Wine\n",
        "# The current parameters for DBSCAN on the Wine dataset are likely resulting in only one cluster,\n",
        "# which causes an error when calculating silhouette and Davies-Bouldin scores.\n",
        "# You might need to adjust eps and min_samples to find multiple clusters.\n",
        "\n",
        "# Let's try some different parameters to find multiple clusters for the Wine dataset\n",
        "found_clusters = False\n",
        "for eps_val in [1.0, 1.5, 2.0]:\n",
        "    for min_samples_val in [3, 4, 5]:\n",
        "        dbscan_wine = DBSCAN(eps=eps_val, min_samples=min_samples_val)\n",
        "        wine_pred = dbscan_wine.fit_predict(X_wine_scaled)\n",
        "        if len(np.unique(wine_pred)) > 1:\n",
        "            print(f\"\\nFound clusters with eps={eps_val}, min_samples={min_samples_val}\")\n",
        "            evaluate_clustering(X_wine_scaled, wine_pred, y_wine, f\"DBSCAN - Wine (eps={eps_val}, min_samples={min_samples_val})\")\n",
        "            found_clusters = True\n",
        "            break # Stop searching once a working combination is found\n",
        "    if found_clusters:\n",
        "        break\n",
        "\n",
        "if not found_clusters:\n",
        "    print(\"\\nCould not find parameters that resulted in more than one cluster for DBSCAN on the Wine dataset.\")"
      ],
      "metadata": {
        "colab": {
          "base_uri": "https://localhost:8080/"
        },
        "id": "1vESntNOxXeQ",
        "outputId": "ceb610e8-3416-4ea5-f633-c228e6c40ba8"
      },
      "execution_count": null,
      "outputs": [
        {
          "output_type": "stream",
          "name": "stdout",
          "text": [
            "\n",
            "🔹 Results for DBSCAN - Iris\n",
            "Silhouette Score: 0.4027617471797909\n",
            "Davies–Bouldin Score: 7.046801925672976\n",
            "Adjusted Rand Index: 0.4706267335681117\n",
            "\n",
            "Found clusters with eps=1.5, min_samples=3\n",
            "\n",
            "🔹 Results for DBSCAN - Wine (eps=1.5, min_samples=3)\n",
            "Silhouette Score: -0.27676901365193624\n",
            "Davies–Bouldin Score: 1.5634487872485454\n",
            "Adjusted Rand Index: 0.04030922138487367\n"
          ]
        }
      ]
    },
    {
      "cell_type": "markdown",
      "source": [
        "### OPTICS\n",
        "OPTICS is similar to DBSCAN but handles varying densities better.\n"
      ],
      "metadata": {
        "id": "4XqgAl4qxx8v"
      }
    },
    {
      "cell_type": "code",
      "source": [
        "# OPTICS - Iris\n",
        "optics_iris = OPTICS(min_samples=5, xi=0.05, min_cluster_size=0.05)\n",
        "iris_pred = optics_iris.fit_predict(X_iris_scaled)\n",
        "evaluate_clustering(X_iris_scaled, iris_pred, y_iris, \"OPTICS - Iris\")\n",
        "\n",
        "# OPTICS - Wine\n",
        "optics_wine = OPTICS(min_samples=5, xi=0.05, min_cluster_size=0.05)\n",
        "wine_pred = optics_wine.fit_predict(X_wine_scaled)\n",
        "evaluate_clustering(X_wine_scaled, wine_pred, y_wine, \"OPTICS - Wine\")\n"
      ],
      "metadata": {
        "colab": {
          "base_uri": "https://localhost:8080/"
        },
        "id": "73mudwf_xXa3",
        "outputId": "d6339de2-4836-4404-a13a-52d15bab58b9"
      },
      "execution_count": null,
      "outputs": [
        {
          "output_type": "stream",
          "name": "stdout",
          "text": [
            "\n",
            "🔹 Results for OPTICS - Iris\n",
            "Silhouette Score: -0.1570899823130734\n",
            "Davies–Bouldin Score: 2.775367859094729\n",
            "Adjusted Rand Index: 0.09917545492142266\n",
            "\n",
            "🔹 Results for OPTICS - Wine\n",
            "Silhouette Score: 0.062173066071171575\n",
            "Davies–Bouldin Score: 1.3246259706293566\n",
            "Adjusted Rand Index: 0.032819401007895745\n"
          ]
        }
      ]
    },
    {
      "cell_type": "markdown",
      "source": [
        "### CLARA & CLARANS\n",
        "Scikit-learn doesn’t directly implement CLARA & CLARANS.\n",
        "We can use **pyclustering** library.\n",
        "- CLARA = \"Clustering Large Applications\" (sampling + k-medoids).\n",
        "- CLARANS = \"Clustering Large Applications based on Randomized Search\".\n"
      ],
      "metadata": {
        "id": "nZan3aYux5Wv"
      }
    },
    {
      "cell_type": "code",
      "source": [
        "!pip install pyclustering --quiet\n",
        "# The following imports caused a ModuleNotFoundError, suggesting an issue with\n",
        "# accessing the specific submodules clara and clarans from pyclustering.cluster.\n",
        "# It's possible the library's structure requires a different import method\n",
        "# or there's an issue with the installed package.\n",
        "# from pyclustering.cluster.clara import clara\n",
        "# from pyclustering.cluster.clarans import clarans\n",
        "from pyclustering.cluster import clara, clarans # Trying an alternative import\n",
        "from pyclustering.utils import timedcall\n",
        "\n",
        "# CLARA on Iris\n",
        "clara_instance = clara(X_iris_scaled.tolist(), 3)\n",
        "clara_instance.process()\n",
        "clara_clusters = clara_instance.get_clusters()\n",
        "labels_clara = np.zeros(len(X_iris_scaled))\n",
        "for cluster_id, cluster in enumerate(clara_clusters):\n",
        "    for index in cluster:\n",
        "        labels_clara[index] = cluster_id\n",
        "evaluate_clustering(X_iris_scaled, labels_clara, y_iris, \"CLARA - Iris\")\n",
        "\n",
        "# CLARANS on Iris\n",
        "clarans_instance = clarans(X_iris_scaled.tolist(), 3, 5, 4)\n",
        "clarans_instance.process()\n",
        "clarans_clusters = clarans_instance.get_clusters()\n",
        "labels_clarans = np.zeros(len(X_iris_scaled))\n",
        "for cluster_id, cluster in enumerate(clarans_clusters):\n",
        "    for index in cluster:\n",
        "        labels_clarans[index] = cluster_id\n",
        "evaluate_clustering(X_iris_scaled, labels_clarans, y_iris, \"CLARANS - Iris\")"
      ],
      "metadata": {
        "colab": {
          "base_uri": "https://localhost:8080/",
          "height": 384
        },
        "id": "jkKc9X1ZxXYS",
        "outputId": "0f6e8481-42c4-45a9-ac81-68473e404da9"
      },
      "execution_count": null,
      "outputs": [
        {
          "output_type": "error",
          "ename": "ImportError",
          "evalue": "cannot import name 'clara' from 'pyclustering.cluster' (/usr/local/lib/python3.12/dist-packages/pyclustering/cluster/__init__.py)",
          "traceback": [
            "\u001b[0;31m---------------------------------------------------------------------------\u001b[0m",
            "\u001b[0;31mImportError\u001b[0m                               Traceback (most recent call last)",
            "\u001b[0;32m/tmp/ipython-input-4225961909.py\u001b[0m in \u001b[0;36m<cell line: 0>\u001b[0;34m()\u001b[0m\n\u001b[1;32m      6\u001b[0m \u001b[0;31m# from pyclustering.cluster.clara import clara\u001b[0m\u001b[0;34m\u001b[0m\u001b[0;34m\u001b[0m\u001b[0m\n\u001b[1;32m      7\u001b[0m \u001b[0;31m# from pyclustering.cluster.clarans import clarans\u001b[0m\u001b[0;34m\u001b[0m\u001b[0;34m\u001b[0m\u001b[0m\n\u001b[0;32m----> 8\u001b[0;31m \u001b[0;32mfrom\u001b[0m \u001b[0mpyclustering\u001b[0m\u001b[0;34m.\u001b[0m\u001b[0mcluster\u001b[0m \u001b[0;32mimport\u001b[0m \u001b[0mclara\u001b[0m\u001b[0;34m,\u001b[0m \u001b[0mclarans\u001b[0m \u001b[0;31m# Trying an alternative import\u001b[0m\u001b[0;34m\u001b[0m\u001b[0;34m\u001b[0m\u001b[0m\n\u001b[0m\u001b[1;32m      9\u001b[0m \u001b[0;32mfrom\u001b[0m \u001b[0mpyclustering\u001b[0m\u001b[0;34m.\u001b[0m\u001b[0mutils\u001b[0m \u001b[0;32mimport\u001b[0m \u001b[0mtimedcall\u001b[0m\u001b[0;34m\u001b[0m\u001b[0;34m\u001b[0m\u001b[0m\n\u001b[1;32m     10\u001b[0m \u001b[0;34m\u001b[0m\u001b[0m\n",
            "\u001b[0;31mImportError\u001b[0m: cannot import name 'clara' from 'pyclustering.cluster' (/usr/local/lib/python3.12/dist-packages/pyclustering/cluster/__init__.py)",
            "",
            "\u001b[0;31m---------------------------------------------------------------------------\u001b[0;32m\nNOTE: If your import is failing due to a missing package, you can\nmanually install dependencies using either !pip or !apt.\n\nTo view examples of installing some common dependencies, click the\n\"Open Examples\" button below.\n\u001b[0;31m---------------------------------------------------------------------------\u001b[0m\n"
          ],
          "errorDetails": {
            "actions": [
              {
                "action": "open_url",
                "actionText": "Open Examples",
                "url": "/notebooks/snippets/importing_libraries.ipynb"
              }
            ]
          }
        }
      ]
    },
    {
      "cell_type": "markdown",
      "source": [
        "### Digit Classification (0–9) using KNN\n",
        "We classify hand-written digits:\n",
        "1. Train-test split\n",
        "2. Hyperparameter tuning (GridSearchCV for `k`)\n",
        "3. Confusion matrix\n",
        "4. Classification report\n"
      ],
      "metadata": {
        "id": "DXQ3uIdEx-kL"
      }
    },
    {
      "cell_type": "code",
      "source": [
        "# Load Digits dataset\n",
        "digits = load_digits()\n",
        "X_digits, y_digits = digits.data, digits.target\n",
        "\n",
        "X_train, X_test, y_train, y_test = train_test_split(X_digits, y_digits, test_size=0.2, random_state=42)\n",
        "\n",
        "# GridSearch for best k\n",
        "param_grid = {'n_neighbors': np.arange(1, 15)}\n",
        "knn = KNeighborsClassifier()\n",
        "grid = GridSearchCV(knn, param_grid, cv=5)\n",
        "grid.fit(X_train, y_train)\n",
        "\n",
        "best_k = grid.best_params_['n_neighbors']\n",
        "print(\"Best k:\", best_k)\n",
        "\n",
        "# Evaluate\n",
        "knn_best = KNeighborsClassifier(n_neighbors=best_k)\n",
        "knn_best.fit(X_train, y_train)\n",
        "y_pred = knn_best.predict(X_test)\n",
        "\n",
        "# Confusion matrix\n",
        "cm = confusion_matrix(y_test, y_pred)\n",
        "disp = ConfusionMatrixDisplay(confusion_matrix=cm, display_labels=digits.target_names)\n",
        "disp.plot(cmap=plt.cm.Blues)\n",
        "plt.show()\n",
        "\n",
        "# Classification report\n",
        "print(\"\\nClassification Report:\\n\", classification_report(y_test, y_pred))\n"
      ],
      "metadata": {
        "colab": {
          "base_uri": "https://localhost:8080/",
          "height": 796
        },
        "id": "3bme0FORxXVi",
        "outputId": "7b86f173-756c-48fd-b5d6-125813c593f6"
      },
      "execution_count": null,
      "outputs": [
        {
          "output_type": "stream",
          "name": "stdout",
          "text": [
            "Best k: 1\n"
          ]
        },
        {
          "output_type": "display_data",
          "data": {
            "text/plain": [
              "<Figure size 640x480 with 2 Axes>"
            ],
            "image/png": "[encoded data removed]"
          },
          "metadata": {}
        },
        {
          "output_type": "stream",
          "name": "stdout",
          "text": [
            "\n",
            "Classification Report:\n",
            "               precision    recall  f1-score   support\n",
            "\n",
            "           0       1.00      1.00      1.00        33\n",
            "           1       0.93      1.00      0.97        28\n",
            "           2       1.00      1.00      1.00        33\n",
            "           3       0.97      1.00      0.99        34\n",
            "           4       0.98      0.98      0.98        46\n",
            "           5       0.98      0.98      0.98        47\n",
            "           6       0.97      1.00      0.99        35\n",
            "           7       1.00      0.97      0.99        34\n",
            "           8       1.00      0.93      0.97        30\n",
            "           9       0.95      0.93      0.94        40\n",
            "\n",
            "    accuracy                           0.98       360\n",
            "   macro avg       0.98      0.98      0.98       360\n",
            "weighted avg       0.98      0.98      0.98       360\n",
            "\n"
          ]
        }
      ]
    }
  ]
}