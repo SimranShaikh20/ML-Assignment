{
  "nbformat": 4,
  "nbformat_minor": 0,
  "metadata": {
    "colab": {
      "provenance": [],
      "authorship_tag": "ABX9TyMa07Cno+W0Rpo7HidMvfGu",
      "include_colab_link": true
    },
    "kernelspec": {
      "name": "python3",
      "display_name": "Python 3"
    },
    "language_info": {
      "name": "python"
    }
  },
  "cells": [
    {
      "cell_type": "markdown",
      "metadata": {
        "id": "view-in-github",
        "colab_type": "text"
      },
      "source": [
        "<a href=\"https://colab.research.google.com/github/SimranShaikh20/ML-Assignment/blob/main/Assignment_7.ipynb\" target=\"_parent\"><img src=\"https://colab.research.google.com/assets/colab-badge.svg\" alt=\"Open In Colab\"/></a>"
      ]
    },
    {
      "cell_type": "code",
      "metadata": {
        "id": "ce5d6930"
      },
      "source": [
        "%pip install pyclustering"
      ],
      "execution_count": null,
      "outputs": []
    },
    {
      "cell_type": "code",
      "execution_count": null,
      "metadata": {
        "id": "Z5cyU2D6-ie6"
      },
      "outputs": [],
      "source": [
        "import numpy as np\n",
        "from sklearn.datasets import load_iris, load_wine\n",
        "from sklearn.preprocessing import StandardScaler\n",
        "from sklearn.cluster import KMeans\n",
        "from sklearn.metrics import silhouette_score, davies_bouldin_score\n"
      ]
    },
    {
      "cell_type": "code",
      "source": [
        "def hopkins(X):\n",
        "    from numpy.random import uniform\n",
        "    from sklearn.neighbors import NearestNeighbors\n",
        "\n",
        "    X = np.array(X)\n",
        "    n, d = X.shape\n",
        "    m = int(0.1 * n)  # 10% of dataset\n",
        "    nbrs = NearestNeighbors(n_neighbors=1).fit(X)\n",
        "\n",
        "    u_distances = []\n",
        "    w_distances = []\n",
        "\n",
        "    for i in range(m):\n",
        "        u_rand = uniform(np.min(X, axis=0), np.max(X, axis=0), d).reshape(1, -1)\n",
        "        u_distances.append(nbrs.kneighbors(u_rand, 2)[0][0][1])\n",
        "        w_distances.append(nbrs.kneighbors(X[np.random.randint(0, n)].reshape(1, -1), 2)[0][0][1])\n",
        "\n",
        "    H = sum(u_distances) / (sum(u_distances) + sum(w_distances))\n",
        "    return H\n"
      ],
      "metadata": {
        "id": "lnS0y8QgACro"
      },
      "execution_count": 7,
      "outputs": []
    },
    {
      "cell_type": "code",
      "source": [
        "iris = load_iris()\n",
        "X_iris = iris.data\n",
        "\n",
        "scaler = StandardScaler()\n",
        "X_iris_scaled = scaler.fit_transform(X_iris)\n",
        "\n",
        "# Hopkins Statistic\n",
        "H_iris = hopkins(X_iris_scaled)\n",
        "print(\"Hopkins Statistic (Iris):\", H_iris)"
      ],
      "metadata": {
        "colab": {
          "base_uri": "https://localhost:8080/"
        },
        "id": "7ItJHh1rACoC",
        "outputId": "c4bca4a7-135f-4cad-eded-800998cdd708"
      },
      "execution_count": 8,
      "outputs": [
        {
          "output_type": "stream",
          "name": "stdout",
          "text": [
            "Hopkins Statistic (Iris): 0.8390603272880992\n"
          ]
        }
      ]
    },
    {
      "cell_type": "code",
      "source": [
        "kmeans_iris = KMeans(n_clusters=3, random_state=42)\n",
        "labels_iris = kmeans_iris.fit_predict(X_iris_scaled)\n",
        "\n",
        "# Evaluation Metrics\n",
        "sil_score_iris = silhouette_score(X_iris_scaled, labels_iris)\n",
        "db_score_iris = davies_bouldin_score(X_iris_scaled, labels_iris)\n",
        "\n",
        "\n",
        "print(\"Iris Clustering Evaluation:\")\n",
        "print(\"Silhouette Score:\", sil_score_iris)\n",
        "print(\"Davies-Bouldin Index:\", db_score_iris)\n"
      ],
      "metadata": {
        "colab": {
          "base_uri": "https://localhost:8080/"
        },
        "id": "MWjhARI_ACls",
        "outputId": "03efbc0e-3524-4319-ad55-744a1bdba548"
      },
      "execution_count": 10,
      "outputs": [
        {
          "output_type": "stream",
          "name": "stdout",
          "text": [
            "Iris Clustering Evaluation:\n",
            "Silhouette Score: 0.4798814508199817\n",
            "Davies-Bouldin Index: 0.7893630242997912\n"
          ]
        }
      ]
    },
    {
      "cell_type": "code",
      "source": [
        "wine = load_wine()\n",
        "X_wine = wine.data\n",
        "X_wine_scaled = scaler.fit_transform(X_wine)\n",
        "\n",
        "# Hopkins Statistic\n",
        "H_wine = hopkins(X_wine_scaled)\n",
        "print(\"\\nHopkins Statistic (Wine):\", H_wine)\n",
        "\n",
        "# KMeans clustering\n",
        "kmeans_wine = KMeans(n_clusters=3, random_state=42)\n",
        "labels_wine = kmeans_wine.fit_predict(X_wine_scaled)\n",
        "\n",
        "# Evaluation Metrics\n",
        "sil_score_wine = silhouette_score(X_wine_scaled, labels_wine)\n",
        "db_score_wine = davies_bouldin_score(X_wine_scaled, labels_wine)\n",
        "\n",
        "\n",
        "print(\"Wine Clustering Evaluation:\")\n",
        "print(\"Silhouette Score:\", sil_score_wine)\n",
        "print(\"Davies-Bouldin Index:\", db_score_wine)\n"
      ],
      "metadata": {
        "colab": {
          "base_uri": "https://localhost:8080/"
        },
        "id": "6pUW5mi9ACjU",
        "outputId": "4d1e3b5c-a786-4c1d-8034-7824ee148134"
      },
      "execution_count": 12,
      "outputs": [
        {
          "output_type": "stream",
          "name": "stdout",
          "text": [
            "\n",
            "Hopkins Statistic (Wine): 0.7090125092547481\n",
            "Wine Clustering Evaluation:\n",
            "Silhouette Score: 0.2848589191898987\n",
            "Davies-Bouldin Index: 1.3891879777181646\n"
          ]
        }
      ]
    },
    {
      "cell_type": "code",
      "source": [],
      "metadata": {
        "id": "Wvrf7JGrACgr"
      },
      "execution_count": null,
      "outputs": []
    }
  ]
}