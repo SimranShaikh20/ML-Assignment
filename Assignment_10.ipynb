{
  "nbformat": 4,
  "nbformat_minor": 0,
  "metadata": {
    "colab": {
      "provenance": [],
      "authorship_tag": "ABX9TyMhVOD8Oe5B5om0aXBoqavs",
      "include_colab_link": true
    },
    "kernelspec": {
      "name": "python3",
      "display_name": "Python 3"
    },
    "language_info": {
      "name": "python"
    }
  },
  "cells": [
    {
      "cell_type": "markdown",
      "metadata": {
        "id": "view-in-github",
        "colab_type": "text"
      },
      "source": [
        "<a href=\"https://colab.research.google.com/github/SimranShaikh20/ML-Assignment/blob/main/Assignment_10.ipynb\" target=\"_parent\"><img src=\"https://colab.research.google.com/assets/colab-badge.svg\" alt=\"Open In Colab\"/></a>"
      ]
    },
    {
      "cell_type": "code",
      "execution_count": 1,
      "metadata": {
        "id": "fekbP0PrNXDG"
      },
      "outputs": [],
      "source": [
        "from sklearn.datasets import fetch_california_housing, load_breast_cancer\n",
        "from sklearn.model_selection import train_test_split\n",
        "from sklearn.linear_model import LinearRegression, LogisticRegression\n",
        "from sklearn.metrics import mean_squared_error, accuracy_score, classification_report"
      ]
    },
    {
      "cell_type": "code",
      "source": [
        "housing = fetch_california_housing()\n",
        "X_h, y_h = housing.data, housing.target\n",
        "\n",
        "# Split into train and test\n",
        "X_train_h, X_test_h, y_train_h, y_test_h = train_test_split(X_h, y_h, test_size=0.2, random_state=42)\n",
        "\n",
        "# Train Linear Regression model\n",
        "lr = LinearRegression()\n",
        "lr.fit(X_train_h, y_train_h)\n",
        "y_pred_lr = lr.predict(X_test_h)\n",
        "\n",
        "# Evaluate\n",
        "mse = mean_squared_error(y_test_h, y_pred_lr)\n",
        "print(\"Linear Regression Mean Squared Error:\", mse)\n",
        "\n",
        "# ----------------------------\n",
        "# 3️⃣ Logistic Regression (Breast Cancer dataset)\n",
        "# ----------------------------\n",
        "# Load dataset\n",
        "cancer = load_breast_cancer()\n",
        "X_c, y_c = cancer.data, cancer.target\n",
        "\n",
        "# Split into train and test\n",
        "X_train_c, X_test_c, y_train_c, y_test_c = train_test_split(X_c, y_c, test_size=0.2, random_state=42)\n",
        "\n",
        "# Train Logistic Regression model\n",
        "logr = LogisticRegression(max_iter=500)\n",
        "logr.fit(X_train_c, y_train_c)\n",
        "y_pred_logr = logr.predict(X_test_c)\n",
        "\n",
        "# Evaluate\n",
        "acc = accuracy_score(y_test_c, y_pred_logr)\n",
        "print(\"Logistic Regression Accuracy:\", acc)\n",
        "print(\"Classification Report:\\n\", classification_report(y_test_c, y_pred_logr))"
      ],
      "metadata": {
        "colab": {
          "base_uri": "https://localhost:8080/"
        },
        "id": "i8ouOjfdNe_z",
        "outputId": "fbb72cc7-0039-404b-e697-735dbbc3a6af"
      },
      "execution_count": 2,
      "outputs": [
        {
          "output_type": "stream",
          "name": "stdout",
          "text": [
            "Linear Regression Mean Squared Error: 0.5558915986952422\n",
            "Logistic Regression Accuracy: 0.956140350877193\n",
            "Classification Report:\n",
            "               precision    recall  f1-score   support\n",
            "\n",
            "           0       0.97      0.91      0.94        43\n",
            "           1       0.95      0.99      0.97        71\n",
            "\n",
            "    accuracy                           0.96       114\n",
            "   macro avg       0.96      0.95      0.95       114\n",
            "weighted avg       0.96      0.96      0.96       114\n",
            "\n"
          ]
        },
        {
          "output_type": "stream",
          "name": "stderr",
          "text": [
            "/usr/local/lib/python3.12/dist-packages/sklearn/linear_model/_logistic.py:465: ConvergenceWarning: lbfgs failed to converge (status=1):\n",
            "STOP: TOTAL NO. OF ITERATIONS REACHED LIMIT.\n",
            "\n",
            "Increase the number of iterations (max_iter) or scale the data as shown in:\n",
            "    https://scikit-learn.org/stable/modules/preprocessing.html\n",
            "Please also refer to the documentation for alternative solver options:\n",
            "    https://scikit-learn.org/stable/modules/linear_model.html#logistic-regression\n",
            "  n_iter_i = _check_optimize_result(\n"
          ]
        }
      ]
    }
  ]
}